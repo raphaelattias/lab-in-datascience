{
 "cells": [
  {
   "cell_type": "markdown",
   "metadata": {},
   "source": [
    "## Create the required HDFS tables in your user space"
   ]
  },
  {
   "cell_type": "markdown",
   "metadata": {},
   "source": [
    "#### The following prepares your personal environment and only has to be done once!"
   ]
  },
  {
   "cell_type": "code",
   "execution_count": null,
   "metadata": {},
   "outputs": [],
   "source": [
    "echo \"You are ${HADOOP_USER_NAME:-nobody}\"\n",
    "echo \"You are ${JUPYTERHUB_USER:-nobody}\""
   ]
  },
  {
   "cell_type": "code",
   "execution_count": null,
   "metadata": {},
   "outputs": [],
   "source": [
    "beeline -n \"${JUPYTERHUB_USER:-nobody}\" -p \"\" -e \"show databases like '${JUPYTERHUB_USER:-nobody}'\""
   ]
  },
  {
   "cell_type": "markdown",
   "metadata": {},
   "source": [
    "#### 1. Checkout the content of your database:"
   ]
  },
  {
   "cell_type": "code",
   "execution_count": null,
   "metadata": {},
   "outputs": [],
   "source": [
    "beeline -n \"${JUPYTERHUB_USER:-nobody}\" -p \"\" -e \"show tables in ${JUPYTERHUB_USER:-nobody};\""
   ]
  },
  {
   "cell_type": "markdown",
   "metadata": {},
   "source": [
    "#### 2. If you have any databases and you are ok losing their content, drop your database then reconstruct it:"
   ]
  },
  {
   "cell_type": "code",
   "execution_count": null,
   "metadata": {},
   "outputs": [],
   "source": [
    "# beeline -n \"${JUPYTERHUB_USER:-nobody}\" -p \"\" -e \"drop database if exists ${JUPYTERHUB_USER:-nobody} cascade;\""
   ]
  },
  {
   "cell_type": "code",
   "execution_count": null,
   "metadata": {},
   "outputs": [],
   "source": [
    "beeline -n \"${JUPYTERHUB_USER:-nobody}\" -p \"\" -e \"show databases like '${JUPYTERHUB_USER:-nobody}';\""
   ]
  },
  {
   "cell_type": "markdown",
   "metadata": {},
   "source": [
    "Reconstruct your hive folder and reconfigure ACL permissions on HDFS:"
   ]
  },
  {
   "cell_type": "code",
   "execution_count": null,
   "metadata": {},
   "outputs": [],
   "source": [
    "hdfs dfs -ls /user/${JUPYTERHUB_USER:-nobody}"
   ]
  },
  {
   "cell_type": "code",
   "execution_count": null,
   "metadata": {},
   "outputs": [],
   "source": [
    "hdfs dfs -rm -r -f -skipTrash /user/${JUPYTERHUB_USER:-nobody}/hive\n",
    "hdfs dfs -rm -r -f -skipTrash /user/${usJUPYTERHUB_USER:-nobody}/.Trash"
   ]
  },
  {
   "cell_type": "code",
   "execution_count": null,
   "metadata": {},
   "outputs": [],
   "source": [
    "hdfs dfs -mkdir -p                                /user/${JUPYTERHUB_USER:-nobody}/hive\n",
    "hdfs dfs -setfacl    -m group::r-x                /user/${JUPYTERHUB_USER:-nobody}\n",
    "hdfs dfs -setfacl    -m other::---                /user/${JUPYTERHUB_USER:-nobody}\n",
    "hdfs dfs -setfacl    -m default:group::r-x        /user/${JUPYTERHUB_USER:-nobody}\n",
    "hdfs dfs -setfacl    -m default:other::---        /user/${JUPYTERHUB_USER:-nobody}\n",
    "hdfs dfs -setfacl -R -m group::r-x                /user/${JUPYTERHUB_USER:-nobody}/hive\n",
    "hdfs dfs -setfacl -R -m other::---                /user/${JUPYTERHUB_USER:-nobody}/hive\n",
    "hdfs dfs -setfacl -R -m default:group::r-x        /user/${JUPYTERHUB_USER:-nobody}/hive\n",
    "hdfs dfs -setfacl -R -m default:other::---        /user/${JUPYTERHUB_USER:-nobody}/hive\n",
    "hdfs dfs -setfacl    -m user:hive:rwx             /user/${JUPYTERHUB_USER:-nobody}/hive\n",
    "hdfs dfs -setfacl    -m default:user:hive:rwx     /user/${JUPYTERHUB_USER:-nobody}/hive"
   ]
  },
  {
   "cell_type": "markdown",
   "metadata": {},
   "source": [
    "#### Creates the main SBB table in your personal HDFS:"
   ]
  },
  {
   "cell_type": "code",
   "execution_count": null,
   "metadata": {},
   "outputs": [],
   "source": [
    "beeline -n \"${JUPYTERHUB_USER:-nobody}\" -p \"\" -e \"\n",
    "create database if not exists ${JUPYTERHUB_USER:-nobody} location '/user/${JUPYTERHUB_USER:-nobody}/hive';\n",
    "drop table if exists ${JUPYTERHUB_USER:-nobody}.sbb_orc;\n",
    "create external table ${JUPYTERHUB_USER:-nobody}.sbb_orc(\n",
    "        BETRIEBSTAG string,\n",
    "        FAHRT_BEZEICHNER string,\n",
    "        BETREIBER_ID string,\n",
    "        BETREIBER_ABK string,\n",
    "        BETREIBER_NAME string,\n",
    "        PRODUKT_ID string,\n",
    "        LINIEN_ID string,\n",
    "        LINIEN_TEXT string,\n",
    "        UMLAUF_ID string,\n",
    "        VERKEHRSMITTEL_TEXT string,\n",
    "        ZUSATZFAHRT_TF string,\n",
    "        FAELLT_AUS_TF string,\n",
    "        BPUIC string,\n",
    "        HALTESTELLEN_NAME string,\n",
    "        ANKUNFTSZEIT string,\n",
    "        AN_PROGNOSE string,\n",
    "        AN_PROGNOSE_STATUS string,\n",
    "        ABFAHRTSZEIT string,\n",
    "        AB_PROGNOSE string,\n",
    "        AB_PROGNOSE_STATUS string,\n",
    "        DURCHFAHRT_TF string\n",
    "    )\n",
    "    row format delimited fields terminated by ';'\n",
    "    stored as ORC\n",
    "    location '/data/sbb/orc/istdaten'\n",
    "    tblproperties ('skip.header.line.count'='1');\n",
    "    select count(*) from ${JUPYTERHUB_USER:-nobody}.sbb_orc;\n",
    "    \""
   ]
  },
  {
   "cell_type": "markdown",
   "metadata": {},
   "source": [
    "#### Creates the a table for SBB geostops in your personal HDFS:"
   ]
  },
  {
   "cell_type": "code",
   "execution_count": null,
   "metadata": {},
   "outputs": [],
   "source": [
    "beeline -n \"${JUPYTERHUB_USER:-nobody}\" -p \"\" -e \"\n",
    "create database if not exists ${JUPYTERHUB_USER:-nobody} location '/user/${JUPYTERHUB_USER:-nobody}/hive';\n",
    "drop table if exists ${JUPYTERHUB_USER:-nobody}.sbb_geostops;\n",
    "create external table ${JUPYTERHUB_USER:-nobody}.sbb_geostops(\n",
    "        STATIONID string,\n",
    "        REMARK string,\n",
    "        LATITUDE string,\n",
    "        LONGITUDE string,\n",
    "        HEIGHT string\n",
    "    )\n",
    "    row format delimited fields terminated by ';'\n",
    "    stored as ORC\n",
    "    location '/data/sbb/orc/geostops'\n",
    "    tblproperties ('skip.header.line.count'='1');\n",
    "    select count(*) from ${JUPYTERHUB_USER:-nobody}.sbb_geostops;\n",
    "    \""
   ]
  },
  {
   "cell_type": "markdown",
   "metadata": {},
   "source": [
    "#### Check the tables have been correctly created:"
   ]
  },
  {
   "cell_type": "code",
   "execution_count": null,
   "metadata": {},
   "outputs": [],
   "source": [
    "beeline -n \"${JUPYTERHUB_USER:-nobody}\" -p \"\" -e \"show tables in ${JUPYTERHUB_USER:-nobody};\""
   ]
  }
 ],
 "metadata": {
  "kernelspec": {
   "display_name": "Bash",
   "language": "bash",
   "name": "bash"
  },
  "language_info": {
   "codemirror_mode": "shell",
   "file_extension": ".sh",
   "mimetype": "text/x-sh",
   "name": "bash"
  }
 },
 "nbformat": 4,
 "nbformat_minor": 4
}
